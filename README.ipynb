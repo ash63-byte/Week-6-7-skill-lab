{
 "cells": [
  {
   "cell_type": "markdown",
   "metadata": {},
   "source": [
    "# Week 7 Skill Lab Repository\n",
    "\n",
    "The code created allows for a user to know if they are eligible to vote or not. The code takes in 2 inputs: name and age. The compute recieves the information and he output displays if he or she are eligible to vote.\n",
    "\n",
    "## Code\n",
    "Python is the coding language used. In order to access the code, you need to have JupyterHub on your device. \n",
    "\n",
    "## Contribution\n",
    "Anyone can contribute or alter the code to make it their own. Send a push request in order to."
   ]
  },
  {
   "cell_type": "code",
   "execution_count": null,
   "metadata": {},
   "outputs": [],
   "source": []
  }
 ],
 "metadata": {
  "kernelspec": {
   "display_name": "Python 3",
   "language": "python",
   "name": "python3"
  },
  "language_info": {
   "codemirror_mode": {
    "name": "ipython",
    "version": 3
   },
   "file_extension": ".py",
   "mimetype": "text/x-python",
   "name": "python",
   "nbconvert_exporter": "python",
   "pygments_lexer": "ipython3",
   "version": "3.8.3"
  }
 },
 "nbformat": 4,
 "nbformat_minor": 4
}
